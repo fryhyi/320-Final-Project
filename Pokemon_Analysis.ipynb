{
 "metadata": {
  "language_info": {
   "codemirror_mode": {
    "name": "ipython",
    "version": 3
   },
   "file_extension": ".py",
   "mimetype": "text/x-python",
   "name": "python",
   "nbconvert_exporter": "python",
   "pygments_lexer": "ipython3",
   "version": "3.9.5"
  },
  "orig_nbformat": 2,
  "kernelspec": {
   "name": "python395jvsc74a57bd0aee8b7b246df8f9039afb4144a1f6fd8d2ca17a180786b69acc140d282b71a49",
   "display_name": "Python 3.9.5 64-bit"
  },
  "metadata": {
   "interpreter": {
    "hash": "aee8b7b246df8f9039afb4144a1f6fd8d2ca17a180786b69acc140d282b71a49"
   }
  }
 },
 "nbformat": 4,
 "nbformat_minor": 2,
 "cells": [
  {
   "cell_type": "code",
   "execution_count": 3,
   "metadata": {},
   "outputs": [],
   "source": [
    "import pandas as pd\n",
    "import numpy as np\n",
    "import seaborn as sb\n",
    "import matplotlib as plt\n",
    "from sklearn import linear_model"
   ]
  },
  {
   "cell_type": "code",
   "execution_count": 132,
   "metadata": {
    "tags": []
   },
   "outputs": [
    {
     "output_type": "stream",
     "name": "stdout",
     "text": [
      "<class 'float'>\n"
     ]
    }
   ],
   "source": [
    "data = pd.read_csv(\"Pokemon 2.csv\")\n",
    "data.head()\n",
    "print(type(data.iloc[4,3]))"
   ]
  },
  {
   "cell_type": "code",
   "execution_count": 143,
   "metadata": {
    "tags": []
   },
   "outputs": [
    {
     "output_type": "execute_result",
     "data": {
      "text/plain": [
       "     Type       Total        HP    Attack   Defense   Sp. Atk   Sp. Def  \\\n",
       "0   Grass  421.142857  0.958412  1.043080  1.008684  1.104138  1.003392   \n",
       "1    Fire  458.076923  0.915617  1.110327  0.887657  1.165491  0.945844   \n",
       "2   Water  430.455357  1.004460  1.033582  1.016780  1.042791  0.982929   \n",
       "3     Bug  378.927536  0.900711  1.123767  1.119865  0.852979  1.026008   \n",
       "4  Normal  401.683673  1.154274  1.097422  0.893941  0.833736  0.951861   \n",
       "\n",
       "      Speed  Total_w_sec  HP_w_sec  Attack_w_sec  Defense_w_sec  \\\n",
       "0  0.882293   417.926316  0.948291      1.054681       1.051659   \n",
       "1  0.975063   467.109375  0.901154      1.080381       0.900351   \n",
       "2  0.919458   429.095238  0.993120      1.030629       1.038841   \n",
       "3  0.976669   379.527778  0.896948      1.134524       1.124204   \n",
       "4  1.068767   402.068627  1.145107      1.084246       0.889517   \n",
       "\n",
       "   Sp. Atk_w_sec  Sp. Def_w_sec  Speed_w_sec  Total_Num_Primary  \\\n",
       "0       1.047125       1.026572     0.871672                 70   \n",
       "1       1.194581       0.954742     0.968791                 52   \n",
       "2       1.045611       0.983132     0.908667                112   \n",
       "3       0.846886       1.022323     0.975115                 69   \n",
       "4       0.851771       0.951257     1.078101                 98   \n",
       "\n",
       "   Total_Num_Secondary  \n",
       "0                   95  \n",
       "1                   64  \n",
       "2                  126  \n",
       "3                   72  \n",
       "4                  102  "
      ],
      "text/html": "<div>\n<style scoped>\n    .dataframe tbody tr th:only-of-type {\n        vertical-align: middle;\n    }\n\n    .dataframe tbody tr th {\n        vertical-align: top;\n    }\n\n    .dataframe thead th {\n        text-align: right;\n    }\n</style>\n<table border=\"1\" class=\"dataframe\">\n  <thead>\n    <tr style=\"text-align: right;\">\n      <th></th>\n      <th>Type</th>\n      <th>Total</th>\n      <th>HP</th>\n      <th>Attack</th>\n      <th>Defense</th>\n      <th>Sp. Atk</th>\n      <th>Sp. Def</th>\n      <th>Speed</th>\n      <th>Total_w_sec</th>\n      <th>HP_w_sec</th>\n      <th>Attack_w_sec</th>\n      <th>Defense_w_sec</th>\n      <th>Sp. Atk_w_sec</th>\n      <th>Sp. Def_w_sec</th>\n      <th>Speed_w_sec</th>\n      <th>Total_Num_Primary</th>\n      <th>Total_Num_Secondary</th>\n    </tr>\n  </thead>\n  <tbody>\n    <tr>\n      <th>0</th>\n      <td>Grass</td>\n      <td>421.142857</td>\n      <td>0.958412</td>\n      <td>1.043080</td>\n      <td>1.008684</td>\n      <td>1.104138</td>\n      <td>1.003392</td>\n      <td>0.882293</td>\n      <td>417.926316</td>\n      <td>0.948291</td>\n      <td>1.054681</td>\n      <td>1.051659</td>\n      <td>1.047125</td>\n      <td>1.026572</td>\n      <td>0.871672</td>\n      <td>70</td>\n      <td>95</td>\n    </tr>\n    <tr>\n      <th>1</th>\n      <td>Fire</td>\n      <td>458.076923</td>\n      <td>0.915617</td>\n      <td>1.110327</td>\n      <td>0.887657</td>\n      <td>1.165491</td>\n      <td>0.945844</td>\n      <td>0.975063</td>\n      <td>467.109375</td>\n      <td>0.901154</td>\n      <td>1.080381</td>\n      <td>0.900351</td>\n      <td>1.194581</td>\n      <td>0.954742</td>\n      <td>0.968791</td>\n      <td>52</td>\n      <td>64</td>\n    </tr>\n    <tr>\n      <th>2</th>\n      <td>Water</td>\n      <td>430.455357</td>\n      <td>1.004460</td>\n      <td>1.033582</td>\n      <td>1.016780</td>\n      <td>1.042791</td>\n      <td>0.982929</td>\n      <td>0.919458</td>\n      <td>429.095238</td>\n      <td>0.993120</td>\n      <td>1.030629</td>\n      <td>1.038841</td>\n      <td>1.045611</td>\n      <td>0.983132</td>\n      <td>0.908667</td>\n      <td>112</td>\n      <td>126</td>\n    </tr>\n    <tr>\n      <th>3</th>\n      <td>Bug</td>\n      <td>378.927536</td>\n      <td>0.900711</td>\n      <td>1.123767</td>\n      <td>1.119865</td>\n      <td>0.852979</td>\n      <td>1.026008</td>\n      <td>0.976669</td>\n      <td>379.527778</td>\n      <td>0.896948</td>\n      <td>1.134524</td>\n      <td>1.124204</td>\n      <td>0.846886</td>\n      <td>1.022323</td>\n      <td>0.975115</td>\n      <td>69</td>\n      <td>72</td>\n    </tr>\n    <tr>\n      <th>4</th>\n      <td>Normal</td>\n      <td>401.683673</td>\n      <td>1.154274</td>\n      <td>1.097422</td>\n      <td>0.893941</td>\n      <td>0.833736</td>\n      <td>0.951861</td>\n      <td>1.068767</td>\n      <td>402.068627</td>\n      <td>1.145107</td>\n      <td>1.084246</td>\n      <td>0.889517</td>\n      <td>0.851771</td>\n      <td>0.951257</td>\n      <td>1.078101</td>\n      <td>98</td>\n      <td>102</td>\n    </tr>\n  </tbody>\n</table>\n</div>"
     },
     "metadata": {},
     "execution_count": 143
    }
   ],
   "source": [
    "#Train the Machine Learning model with the sample data\n",
    "#Create a 2D array of values detailing the average of each stat for each typing\n",
    "model = pd.DataFrame()\n",
    "model['Type'] = ['Grass', 'Fire', 'Water', 'Bug', 'Normal', 'Poison', 'Electric',\n",
    "       'Ground', 'Fairy', 'Fighting', 'Psychic', 'Rock', 'Ghost', 'Ice',\n",
    "       'Dragon', 'Dark', 'Steel', 'Flying']\n",
    "stats = ['Total', 'HP', 'Attack', 'Defense', 'Sp. Atk', 'Sp. Def', 'Speed','Total_w_sec', 'HP_w_sec', 'Attack_w_sec', 'Defense_w_sec', 'Sp. Atk_w_sec', 'Sp. Def_w_sec', 'Speed_w_sec', 'Total_Num_Primary', 'Total_Num_Secondary']\n",
    "\n",
    "\n",
    "for column in stats:\n",
    "    model[column] = 0\n",
    "\n",
    "num_per_type = data['Type 1'].value_counts()\n",
    "num_per_type_2 = data['Type 2'].value_counts()\n",
    "\n",
    "for i in num_per_type.index:\n",
    "    m = model.loc[model['Type'] == i] \n",
    "    model.loc[m.index, 'Total_Num_Primary'] = num_per_type[i]\n",
    "\n",
    "\n",
    "for i in num_per_type_2.index:\n",
    "    m = model.loc[model['Type'] == i]\n",
    "    model.loc[m.index, 'Total_Num_Secondary'] = num_per_type_2[i] + model.loc[m.index, 'Total_Num_Primary']\n",
    "\n",
    "for index1, typing in model.iterrows():\n",
    "    for index2, pokemon in data.iterrows():\n",
    "        if pokemon['Type 1'] == typing['Type']:\n",
    "            for index in range(4,11):\n",
    "                model.loc[index1, data.columns[index]] += pokemon[index]\n",
    "                model.loc[index1, data.columns[index] + '_w_sec'] += pokemon[index]\n",
    "        if pokemon['Type 2'] and pokemon['Type 2'] == typing['Type']:\n",
    "            for index in range(4,11):\n",
    "                model.loc[index1, data.columns[index] + '_w_sec'] += pokemon[index]\n",
    "    for col_index in range(1,8):\n",
    "        model.loc[index1, model.columns[col_index]] /= model.loc[index1,'Total_Num_Primary']\n",
    "        model.loc[index1, model.columns[col_index+7]] /= model.loc[index1,'Total_Num_Secondary']\n",
    "#normalize values around 1 to account for variability between weak/strong pokemon\n",
    "\n",
    "\n",
    "    for col_index in range(2,8):\n",
    "        model.loc[index1, model.columns[col_index]] /= (model.loc[index1,'Total']/6)\n",
    "        model.loc[index1, model.columns[col_index+7]] /= (model.loc[index1,'Total_w_sec']/6)\n",
    "\n",
    "\n",
    "model.head()"
   ]
  },
  {
   "cell_type": "code",
   "execution_count": 201,
   "metadata": {},
   "outputs": [],
   "source": [
    "pok_ind = 7\n",
    "pok = data.iloc[pok_ind, 4:11]\n",
    "arr = np.empty(18)\n",
    "resid = 0\n",
    "for col in range (1,7):\n",
    "    pok[col] = (6*pok[col])/pok[0]\n",
    "arr = np.empty(18)\n",
    "resid = 0\n",
    "for index, Type in model.iterrows():\n",
    "    for col in range(1,7):\n",
    "        resid += abs(pok[col]-model.iloc[index, col+1])\n",
    "    # if pd.to_numeric(po).idxmax() == pd.to_numeric(Type[2:8]).idxmax():\n",
    "    #     resid -= .05\n",
    "    arr[index] = resid\n",
    "    resid = 0\n",
    "result_ind = np.where(arr == np.amin(arr))\n",
    "po = pok[1:7]\n"
   ]
  },
  {
   "cell_type": "code",
   "execution_count": 228,
   "metadata": {},
   "outputs": [],
   "source": [
    "#use the predictive model to guess a pokemon's typing based on its stats alone\n",
    "\n",
    "def predict(pok):\n",
    "    #normalize the stats around 1\n",
    "    for col in range (1,7):\n",
    "        pok[col] = (6*pok[col])/pok[0]\n",
    "    arr = np.empty(18)\n",
    "    resid = 0\n",
    "    for index, Type in model.iterrows():\n",
    "        for col in range(1,7):\n",
    "            resid += abs(pok[col]-model.iloc[index, col+1])\n",
    "        arr[index] = resid + 1/model.loc[index, 'Total_Num_Primary']\n",
    "        resid = 0\n",
    "    result_ind = np.where(arr == np.amin(arr))\n",
    "\n",
    "    return(model.loc[result_ind[0][0], 'Type'])\n",
    "\n",
    "def predict_w_sec(pok):\n",
    "    #normalize the stats around 1\n",
    "    for col in range (1,7):\n",
    "        pok[col] = (6*pok[col])/pok[0]\n",
    "    arr = np.empty(18)\n",
    "    resid = 0\n",
    "    for index, Type in model.iterrows():\n",
    "        for col in range(1,7):\n",
    "            resid += abs(pok[col]-model.iloc[index, col+8])\n",
    "        arr[index] = resid\n",
    "        resid = 0\n",
    "    result_ind = np.where(arr == np.amin(arr))\n",
    "    return(model.loc[result_ind[0][0], 'Type'])\n"
   ]
  },
  {
   "cell_type": "code",
   "execution_count": 203,
   "metadata": {},
   "outputs": [
    {
     "output_type": "stream",
     "name": "stdout",
     "text": [
      "0.9011540391369794\n1.0803813346713498\n0.900351229302559\n1.1945810336176619\n0.954741595584546\n0.9687907676869042\n"
     ]
    }
   ],
   "source": [
    "for col in range(1,7):\n",
    "    print(model.iloc[1,col+8])\n",
    "\n",
    "    "
   ]
  },
  {
   "cell_type": "code",
   "execution_count": 229,
   "metadata": {},
   "outputs": [
    {
     "output_type": "stream",
     "name": "stdout",
     "text": [
      "124 57\n     Type       Total   HP    Attack   Defense  Sp. Atk  Sp. Def    Speed  \\\n16  Steel  487.703704  1.0  1.140492  1.554678  0.83065  0.99195  0.67983   \n\n    Total_w_sec  HP_w_sec  ...  Defense_w_sec  Sp. Atk_w_sec  Sp. Def_w_sec  \\\n16   486.591837   0.80099  ...       1.437906       0.889066       1.025458   \n\n    Speed_w_sec  Total_Num_Primary  Total_Num_Secondary  Guessed_Correct  \\\n16     0.704106                 27                   49               14   \n\n    Guessed_Correct_sec  Guessed_in_Error  Guessed_in_Error_sec  \n16                    0                62                     0  \n\n[1 rows x 21 columns]\n"
     ]
    }
   ],
   "source": [
    "#Analysis of algorithms\n",
    "count = 0\n",
    "count_sec = 0\n",
    "model['Guessed_Correct'] = 0\n",
    "model['Guessed_Correct_sec'] = 0\n",
    "model['Guessed_in_Error'] = 0\n",
    "model['Guessed_in_Error_sec'] = 0\n",
    "for index, pok in data.iterrows():\n",
    "    guess = predict(pok[4:11])\n",
    "    guess_sec = predict_w_sec(pok[4:11])\n",
    "    #  or guess == pok[3]:\n",
    "\n",
    "    if guess == pok[2]:\n",
    "        count+=1\n",
    "        model.loc[model['Type'] == guess, 'Guessed_Correct'] += 1\n",
    "    else:\n",
    "        model.loc[model['Type'] == guess, 'Guessed_in_Error'] +=1\n",
    "    if guess_sec == pok[2]:\n",
    "        count_sec+=1\n",
    "        model.loc[model['Type'] == guess_sec, 'Guessed_Correct_sec'] += 1\n",
    "    else:\n",
    "        model.loc[model['Type'] == guess_sec, 'Guessed_in_Error_sec'] +=1\n",
    "\n",
    "print(count,count_sec)\n",
    "print(model.loc[model['Type']=='Steel'])"
   ]
  },
  {
   "cell_type": "code",
   "execution_count": 231,
   "metadata": {},
   "outputs": [
    {
     "output_type": "stream",
     "name": "stdout",
     "text": [
      "6\nType                      Electric\nTotal                   443.409091\nHP                        0.809124\nAttack                    0.934905\nDefense                   0.897078\nSp. Atk                   1.218145\nSp. Def                   0.997335\nSpeed                     1.143414\nTotal_w_sec                 444.84\nHP_w_sec                  0.852441\nAttack_w_sec              0.937685\nDefense_w_sec             0.897491\nSp. Atk_w_sec             1.199892\nSp. Def_w_sec             0.993796\nSpeed_w_sec               1.118694\nTotal_Num_Primary               44\nTotal_Num_Secondary             50\nGuessed_Correct                 10\nGuessed_Correct_sec              3\nGuessed_in_Error                71\nGuessed_in_Error_sec            33\nName: 6, dtype: object\n"
     ]
    },
    {
     "output_type": "execute_result",
     "data": {
      "text/plain": [
       "     Type       Total        HP    Attack   Defense   Sp. Atk   Sp. Def  \\\n",
       "0   Grass  421.142857  0.958412  1.043080  1.008684  1.104138  1.003392   \n",
       "1    Fire  458.076923  0.915617  1.110327  0.887657  1.165491  0.945844   \n",
       "2   Water  430.455357  1.004460  1.033582  1.016780  1.042791  0.982929   \n",
       "3     Bug  378.927536  0.900711  1.123767  1.119865  0.852979  1.026008   \n",
       "4  Normal  401.683673  1.154274  1.097422  0.893941  0.833736  0.951861   \n",
       "\n",
       "      Speed  Total_w_sec  HP_w_sec  ...  Defense_w_sec  Sp. Atk_w_sec  \\\n",
       "0  0.882293   417.926316  0.948291  ...       1.051659       1.047125   \n",
       "1  0.975063   467.109375  0.901154  ...       0.900351       1.194581   \n",
       "2  0.919458   429.095238  0.993120  ...       1.038841       1.045611   \n",
       "3  0.976669   379.527778  0.896948  ...       1.124204       0.846886   \n",
       "4  1.068767   402.068627  1.145107  ...       0.889517       0.851771   \n",
       "\n",
       "   Sp. Def_w_sec  Speed_w_sec  Total_Num_Primary  Total_Num_Secondary  \\\n",
       "0       1.026572     0.871672                 70                   95   \n",
       "1       0.954742     0.968791                 52                   64   \n",
       "2       0.983132     0.908667                112                  126   \n",
       "3       1.022323     0.975115                 69                   72   \n",
       "4       0.951257     1.078101                 98                  102   \n",
       "\n",
       "   Guessed_Correct  Guessed_Correct_sec  Guessed_in_Error  \\\n",
       "0                3                   21                 7   \n",
       "1               12                    8                49   \n",
       "2                6                    5                20   \n",
       "3                4                    1                31   \n",
       "4               26                    8                31   \n",
       "\n",
       "   Guessed_in_Error_sec  \n",
       "0                   194  \n",
       "1                    72  \n",
       "2                    40  \n",
       "3                     0  \n",
       "4                    38  \n",
       "\n",
       "[5 rows x 21 columns]"
      ],
      "text/html": "<div>\n<style scoped>\n    .dataframe tbody tr th:only-of-type {\n        vertical-align: middle;\n    }\n\n    .dataframe tbody tr th {\n        vertical-align: top;\n    }\n\n    .dataframe thead th {\n        text-align: right;\n    }\n</style>\n<table border=\"1\" class=\"dataframe\">\n  <thead>\n    <tr style=\"text-align: right;\">\n      <th></th>\n      <th>Type</th>\n      <th>Total</th>\n      <th>HP</th>\n      <th>Attack</th>\n      <th>Defense</th>\n      <th>Sp. Atk</th>\n      <th>Sp. Def</th>\n      <th>Speed</th>\n      <th>Total_w_sec</th>\n      <th>HP_w_sec</th>\n      <th>...</th>\n      <th>Defense_w_sec</th>\n      <th>Sp. Atk_w_sec</th>\n      <th>Sp. Def_w_sec</th>\n      <th>Speed_w_sec</th>\n      <th>Total_Num_Primary</th>\n      <th>Total_Num_Secondary</th>\n      <th>Guessed_Correct</th>\n      <th>Guessed_Correct_sec</th>\n      <th>Guessed_in_Error</th>\n      <th>Guessed_in_Error_sec</th>\n    </tr>\n  </thead>\n  <tbody>\n    <tr>\n      <th>0</th>\n      <td>Grass</td>\n      <td>421.142857</td>\n      <td>0.958412</td>\n      <td>1.043080</td>\n      <td>1.008684</td>\n      <td>1.104138</td>\n      <td>1.003392</td>\n      <td>0.882293</td>\n      <td>417.926316</td>\n      <td>0.948291</td>\n      <td>...</td>\n      <td>1.051659</td>\n      <td>1.047125</td>\n      <td>1.026572</td>\n      <td>0.871672</td>\n      <td>70</td>\n      <td>95</td>\n      <td>3</td>\n      <td>21</td>\n      <td>7</td>\n      <td>194</td>\n    </tr>\n    <tr>\n      <th>1</th>\n      <td>Fire</td>\n      <td>458.076923</td>\n      <td>0.915617</td>\n      <td>1.110327</td>\n      <td>0.887657</td>\n      <td>1.165491</td>\n      <td>0.945844</td>\n      <td>0.975063</td>\n      <td>467.109375</td>\n      <td>0.901154</td>\n      <td>...</td>\n      <td>0.900351</td>\n      <td>1.194581</td>\n      <td>0.954742</td>\n      <td>0.968791</td>\n      <td>52</td>\n      <td>64</td>\n      <td>12</td>\n      <td>8</td>\n      <td>49</td>\n      <td>72</td>\n    </tr>\n    <tr>\n      <th>2</th>\n      <td>Water</td>\n      <td>430.455357</td>\n      <td>1.004460</td>\n      <td>1.033582</td>\n      <td>1.016780</td>\n      <td>1.042791</td>\n      <td>0.982929</td>\n      <td>0.919458</td>\n      <td>429.095238</td>\n      <td>0.993120</td>\n      <td>...</td>\n      <td>1.038841</td>\n      <td>1.045611</td>\n      <td>0.983132</td>\n      <td>0.908667</td>\n      <td>112</td>\n      <td>126</td>\n      <td>6</td>\n      <td>5</td>\n      <td>20</td>\n      <td>40</td>\n    </tr>\n    <tr>\n      <th>3</th>\n      <td>Bug</td>\n      <td>378.927536</td>\n      <td>0.900711</td>\n      <td>1.123767</td>\n      <td>1.119865</td>\n      <td>0.852979</td>\n      <td>1.026008</td>\n      <td>0.976669</td>\n      <td>379.527778</td>\n      <td>0.896948</td>\n      <td>...</td>\n      <td>1.124204</td>\n      <td>0.846886</td>\n      <td>1.022323</td>\n      <td>0.975115</td>\n      <td>69</td>\n      <td>72</td>\n      <td>4</td>\n      <td>1</td>\n      <td>31</td>\n      <td>0</td>\n    </tr>\n    <tr>\n      <th>4</th>\n      <td>Normal</td>\n      <td>401.683673</td>\n      <td>1.154274</td>\n      <td>1.097422</td>\n      <td>0.893941</td>\n      <td>0.833736</td>\n      <td>0.951861</td>\n      <td>1.068767</td>\n      <td>402.068627</td>\n      <td>1.145107</td>\n      <td>...</td>\n      <td>0.889517</td>\n      <td>0.851771</td>\n      <td>0.951257</td>\n      <td>1.078101</td>\n      <td>98</td>\n      <td>102</td>\n      <td>26</td>\n      <td>8</td>\n      <td>31</td>\n      <td>38</td>\n    </tr>\n  </tbody>\n</table>\n<p>5 rows × 21 columns</p>\n</div>"
     },
     "metadata": {},
     "execution_count": 231
    }
   ],
   "source": [
    "print((model['Guessed_in_Error'].idxmax()))\n",
    "print(model.loc[6])\n",
    "model.head()"
   ]
  },
  {
   "cell_type": "code",
   "execution_count": 190,
   "metadata": {},
   "outputs": [
    {
     "output_type": "execute_result",
     "data": {
      "text/plain": [
       "     Type       Total        HP    Attack   Defense   Sp. Atk   Sp. Def  \\\n",
       "0   Grass  421.142857  0.958412  1.043080  1.008684  1.104138  1.003392   \n",
       "1    Fire  458.076923  0.915617  1.110327  0.887657  1.165491  0.945844   \n",
       "2   Water  430.455357  1.004460  1.033582  1.016780  1.042791  0.982929   \n",
       "3     Bug  378.927536  0.900711  1.123767  1.119865  0.852979  1.026008   \n",
       "4  Normal  401.683673  1.154274  1.097422  0.893941  0.833736  0.951861   \n",
       "\n",
       "      Speed  Total_w_sec  HP_w_sec  ...  Defense_w_sec  Sp. Atk_w_sec  \\\n",
       "0  0.882293   417.926316  0.948291  ...       1.051659       1.047125   \n",
       "1  0.975063   467.109375  0.901154  ...       0.900351       1.194581   \n",
       "2  0.919458   429.095238  0.993120  ...       1.038841       1.045611   \n",
       "3  0.976669   379.527778  0.896948  ...       1.124204       0.846886   \n",
       "4  1.068767   402.068627  1.145107  ...       0.889517       0.851771   \n",
       "\n",
       "   Sp. Def_w_sec  Speed_w_sec  Total_Num_Primary  Total_Num_Secondary  \\\n",
       "0       1.026572     0.871672                 70                   95   \n",
       "1       0.954742     0.968791                 52                   64   \n",
       "2       0.983132     0.908667                112                  126   \n",
       "3       1.022323     0.975115                 69                   72   \n",
       "4       0.951257     1.078101                 98                  102   \n",
       "\n",
       "   Guessed_Correct  Guessed_Correct_sec  Guessed_in_Error  \\\n",
       "0                0                    0                 0   \n",
       "1                0                    0                 0   \n",
       "2                0                    0                 0   \n",
       "3                0                    0                 0   \n",
       "4                0                    0                 0   \n",
       "\n",
       "   Guessed_in_Error_sec  \n",
       "0                     0  \n",
       "1                     0  \n",
       "2                     0  \n",
       "3                     0  \n",
       "4                     0  \n",
       "\n",
       "[5 rows x 21 columns]"
      ],
      "text/html": "<div>\n<style scoped>\n    .dataframe tbody tr th:only-of-type {\n        vertical-align: middle;\n    }\n\n    .dataframe tbody tr th {\n        vertical-align: top;\n    }\n\n    .dataframe thead th {\n        text-align: right;\n    }\n</style>\n<table border=\"1\" class=\"dataframe\">\n  <thead>\n    <tr style=\"text-align: right;\">\n      <th></th>\n      <th>Type</th>\n      <th>Total</th>\n      <th>HP</th>\n      <th>Attack</th>\n      <th>Defense</th>\n      <th>Sp. Atk</th>\n      <th>Sp. Def</th>\n      <th>Speed</th>\n      <th>Total_w_sec</th>\n      <th>HP_w_sec</th>\n      <th>...</th>\n      <th>Defense_w_sec</th>\n      <th>Sp. Atk_w_sec</th>\n      <th>Sp. Def_w_sec</th>\n      <th>Speed_w_sec</th>\n      <th>Total_Num_Primary</th>\n      <th>Total_Num_Secondary</th>\n      <th>Guessed_Correct</th>\n      <th>Guessed_Correct_sec</th>\n      <th>Guessed_in_Error</th>\n      <th>Guessed_in_Error_sec</th>\n    </tr>\n  </thead>\n  <tbody>\n    <tr>\n      <th>0</th>\n      <td>Grass</td>\n      <td>421.142857</td>\n      <td>0.958412</td>\n      <td>1.043080</td>\n      <td>1.008684</td>\n      <td>1.104138</td>\n      <td>1.003392</td>\n      <td>0.882293</td>\n      <td>417.926316</td>\n      <td>0.948291</td>\n      <td>...</td>\n      <td>1.051659</td>\n      <td>1.047125</td>\n      <td>1.026572</td>\n      <td>0.871672</td>\n      <td>70</td>\n      <td>95</td>\n      <td>0</td>\n      <td>0</td>\n      <td>0</td>\n      <td>0</td>\n    </tr>\n    <tr>\n      <th>1</th>\n      <td>Fire</td>\n      <td>458.076923</td>\n      <td>0.915617</td>\n      <td>1.110327</td>\n      <td>0.887657</td>\n      <td>1.165491</td>\n      <td>0.945844</td>\n      <td>0.975063</td>\n      <td>467.109375</td>\n      <td>0.901154</td>\n      <td>...</td>\n      <td>0.900351</td>\n      <td>1.194581</td>\n      <td>0.954742</td>\n      <td>0.968791</td>\n      <td>52</td>\n      <td>64</td>\n      <td>0</td>\n      <td>0</td>\n      <td>0</td>\n      <td>0</td>\n    </tr>\n    <tr>\n      <th>2</th>\n      <td>Water</td>\n      <td>430.455357</td>\n      <td>1.004460</td>\n      <td>1.033582</td>\n      <td>1.016780</td>\n      <td>1.042791</td>\n      <td>0.982929</td>\n      <td>0.919458</td>\n      <td>429.095238</td>\n      <td>0.993120</td>\n      <td>...</td>\n      <td>1.038841</td>\n      <td>1.045611</td>\n      <td>0.983132</td>\n      <td>0.908667</td>\n      <td>112</td>\n      <td>126</td>\n      <td>0</td>\n      <td>0</td>\n      <td>0</td>\n      <td>0</td>\n    </tr>\n    <tr>\n      <th>3</th>\n      <td>Bug</td>\n      <td>378.927536</td>\n      <td>0.900711</td>\n      <td>1.123767</td>\n      <td>1.119865</td>\n      <td>0.852979</td>\n      <td>1.026008</td>\n      <td>0.976669</td>\n      <td>379.527778</td>\n      <td>0.896948</td>\n      <td>...</td>\n      <td>1.124204</td>\n      <td>0.846886</td>\n      <td>1.022323</td>\n      <td>0.975115</td>\n      <td>69</td>\n      <td>72</td>\n      <td>0</td>\n      <td>0</td>\n      <td>0</td>\n      <td>0</td>\n    </tr>\n    <tr>\n      <th>4</th>\n      <td>Normal</td>\n      <td>401.683673</td>\n      <td>1.154274</td>\n      <td>1.097422</td>\n      <td>0.893941</td>\n      <td>0.833736</td>\n      <td>0.951861</td>\n      <td>1.068767</td>\n      <td>402.068627</td>\n      <td>1.145107</td>\n      <td>...</td>\n      <td>0.889517</td>\n      <td>0.851771</td>\n      <td>0.951257</td>\n      <td>1.078101</td>\n      <td>98</td>\n      <td>102</td>\n      <td>0</td>\n      <td>0</td>\n      <td>0</td>\n      <td>0</td>\n    </tr>\n  </tbody>\n</table>\n<p>5 rows × 21 columns</p>\n</div>"
     },
     "metadata": {},
     "execution_count": 190
    }
   ],
   "source": [
    "model.loc[model['Type'] == 'Psychic', 'Guessed_in_Error_sec'] +=1\n",
    "model.head()"
   ]
  },
  {
   "cell_type": "code",
   "execution_count": null,
   "metadata": {},
   "outputs": [],
   "source": []
  }
 ]
}