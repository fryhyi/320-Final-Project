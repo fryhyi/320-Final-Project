{
 "metadata": {
  "language_info": {
   "codemirror_mode": {
    "name": "ipython",
    "version": 3
   },
   "file_extension": ".py",
   "mimetype": "text/x-python",
   "name": "python",
   "nbconvert_exporter": "python",
   "pygments_lexer": "ipython3",
   "version": "3.9.5"
  },
  "orig_nbformat": 2,
  "kernelspec": {
   "name": "python395jvsc74a57bd0aee8b7b246df8f9039afb4144a1f6fd8d2ca17a180786b69acc140d282b71a49",
   "display_name": "Python 3.9.5 64-bit"
  },
  "metadata": {
   "interpreter": {
    "hash": "aee8b7b246df8f9039afb4144a1f6fd8d2ca17a180786b69acc140d282b71a49"
   }
  }
 },
 "nbformat": 4,
 "nbformat_minor": 2,
 "cells": [
  {
   "cell_type": "code",
   "execution_count": 4,
   "metadata": {},
   "outputs": [],
   "source": [
    "import pandas as pd\n",
    "import numpy as np\n",
    "import seaborn as sb\n",
    "import matplotlib as plt\n",
    "from sklearn import linear_model"
   ]
  },
  {
   "cell_type": "code",
   "execution_count": 74,
   "metadata": {
    "tags": []
   },
   "outputs": [
    {
     "output_type": "stream",
     "name": "stdout",
     "text": [
      "112\n"
     ]
    }
   ],
   "source": [
    "data = pd.read_csv(\"Pokemon 2.csv\")\n",
    "data.head()\n",
    "print(data['Type 1'].value_counts()['Water'])\n",
    "# boo = True\n",
    "# for index, row in data.iterrows():\n",
    "#     if boo:\n",
    "#         for index in range(4,10):\n",
    "#             print(row[index])\n",
    "#     boo = False"
   ]
  },
  {
   "cell_type": "code",
   "execution_count": 113,
   "metadata": {
    "tags": []
   },
   "outputs": [
    {
     "output_type": "execute_result",
     "data": {
      "text/plain": [
       "     Type       Total        HP    Attack   Defense   Sp. Atk   Sp. Def  \\\n",
       "0   Grass  421.142857  0.958412  1.043080  1.008684  1.104138  1.003392   \n",
       "1    Fire  458.076923  0.915617  1.110327  0.887657  1.165491  0.945844   \n",
       "2   Water  430.455357  1.004460  1.033582  1.016780  1.042791  0.982929   \n",
       "3     Bug  378.927536  0.900711  1.123767  1.119865  0.852979  1.026008   \n",
       "4  Normal  401.683673  1.154274  1.097422  0.893941  0.833736  0.951861   \n",
       "\n",
       "      Speed  Total_Num  \n",
       "0  0.882293         70  \n",
       "1  0.975063         52  \n",
       "2  0.919458        112  \n",
       "3  0.976669         69  \n",
       "4  1.068767         98  "
      ],
      "text/html": "<div>\n<style scoped>\n    .dataframe tbody tr th:only-of-type {\n        vertical-align: middle;\n    }\n\n    .dataframe tbody tr th {\n        vertical-align: top;\n    }\n\n    .dataframe thead th {\n        text-align: right;\n    }\n</style>\n<table border=\"1\" class=\"dataframe\">\n  <thead>\n    <tr style=\"text-align: right;\">\n      <th></th>\n      <th>Type</th>\n      <th>Total</th>\n      <th>HP</th>\n      <th>Attack</th>\n      <th>Defense</th>\n      <th>Sp. Atk</th>\n      <th>Sp. Def</th>\n      <th>Speed</th>\n      <th>Total_Num</th>\n    </tr>\n  </thead>\n  <tbody>\n    <tr>\n      <th>0</th>\n      <td>Grass</td>\n      <td>421.142857</td>\n      <td>0.958412</td>\n      <td>1.043080</td>\n      <td>1.008684</td>\n      <td>1.104138</td>\n      <td>1.003392</td>\n      <td>0.882293</td>\n      <td>70</td>\n    </tr>\n    <tr>\n      <th>1</th>\n      <td>Fire</td>\n      <td>458.076923</td>\n      <td>0.915617</td>\n      <td>1.110327</td>\n      <td>0.887657</td>\n      <td>1.165491</td>\n      <td>0.945844</td>\n      <td>0.975063</td>\n      <td>52</td>\n    </tr>\n    <tr>\n      <th>2</th>\n      <td>Water</td>\n      <td>430.455357</td>\n      <td>1.004460</td>\n      <td>1.033582</td>\n      <td>1.016780</td>\n      <td>1.042791</td>\n      <td>0.982929</td>\n      <td>0.919458</td>\n      <td>112</td>\n    </tr>\n    <tr>\n      <th>3</th>\n      <td>Bug</td>\n      <td>378.927536</td>\n      <td>0.900711</td>\n      <td>1.123767</td>\n      <td>1.119865</td>\n      <td>0.852979</td>\n      <td>1.026008</td>\n      <td>0.976669</td>\n      <td>69</td>\n    </tr>\n    <tr>\n      <th>4</th>\n      <td>Normal</td>\n      <td>401.683673</td>\n      <td>1.154274</td>\n      <td>1.097422</td>\n      <td>0.893941</td>\n      <td>0.833736</td>\n      <td>0.951861</td>\n      <td>1.068767</td>\n      <td>98</td>\n    </tr>\n  </tbody>\n</table>\n</div>"
     },
     "metadata": {},
     "execution_count": 113
    }
   ],
   "source": [
    "#Train the Machine Learning model with the sample data\n",
    "#Create a 2D array of values detailing the average of each stat for each typing\n",
    "model = pd.DataFrame()\n",
    "model['Type'] = ['Grass', 'Fire', 'Water', 'Bug', 'Normal', 'Poison', 'Electric',\n",
    "       'Ground', 'Fairy', 'Fighting', 'Psychic', 'Rock', 'Ghost', 'Ice',\n",
    "       'Dragon', 'Dark', 'Steel', 'Flying']\n",
    "stats = ['Total', 'HP', 'Attack', 'Defense', 'Sp. Atk', 'Sp. Def', 'Speed', 'Total_Num']\n",
    "\n",
    "\n",
    "for column in stats:\n",
    "    model[column] = 0\n",
    "\n",
    "num_per_type = data['Type 1'].value_counts()\n",
    "\n",
    "m = model.loc[model['Type'] == 'Water'].index\n",
    "\n",
    "for i in num_per_type.index:\n",
    "    m = model.loc[model['Type'] == i]\n",
    "    model.loc[m.index, 'Total_Num'] = num_per_type[i]\n",
    "\n",
    "\n",
    "for index1, typing in model.iterrows():\n",
    "    for index2, pokemon in data.iterrows():\n",
    "        if pokemon['Type 1'] == typing['Type']:\n",
    "            for index in range(4,11):\n",
    "                model.loc[index1, data.columns[index]] += pokemon[index]\n",
    "    for col_index in range(1,8):\n",
    "        model.loc[index1, model.columns[col_index]] /= model.loc[index1,'Total_Num']\n",
    "#normalize values around 1 to account for variability between weak/strong pokemon\n",
    "    for col_index in range(2,8):\n",
    "        model.loc[index1, model.columns[col_index]] /= (model.loc[index1,'Total']/6)\n",
    "\n",
    "\n",
    "\n",
    "model.head()"
   ]
  },
  {
   "cell_type": "code",
   "execution_count": 111,
   "metadata": {},
   "outputs": [
    {
     "output_type": "stream",
     "name": "stdout",
     "text": [
      "   #                   Name Type 1  Type 2  Total  HP  Attack  Defense  \\\n2  3               Venusaur  Grass  Poison    525  80      82       83   \n3  3  VenusaurMega Venusaur  Grass  Poison    625  80     100      123   \n4  4             Charmander   Fire     NaN    309  39      52       43   \n\n   Sp. Atk  Sp. Def  Speed  Generation  Legendary  \n2      100      100     80           1      False  \n3      122      120     80           1      False  \n4       60       50     65           1      False  \n"
     ]
    }
   ],
   "source": [
    "print(data.loc[2:4])"
   ]
  },
  {
   "cell_type": "code",
   "execution_count": 8,
   "metadata": {},
   "outputs": [],
   "source": [
    "#use the predictive model to guess a pokemon's typing based on its stats alone\n",
    "\n",
    "def predict(pok):\n",
    "    "
   ]
  }
 ]
}