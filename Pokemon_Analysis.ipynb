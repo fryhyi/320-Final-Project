{
 "metadata": {
  "language_info": {
   "codemirror_mode": {
    "name": "ipython",
    "version": 3
   },
   "file_extension": ".py",
   "mimetype": "text/x-python",
   "name": "python",
   "nbconvert_exporter": "python",
   "pygments_lexer": "ipython3",
   "version": "3.9.5"
  },
  "orig_nbformat": 2,
  "kernelspec": {
   "name": "python395jvsc74a57bd0aee8b7b246df8f9039afb4144a1f6fd8d2ca17a180786b69acc140d282b71a49",
   "display_name": "Python 3.9.5 64-bit"
  },
  "metadata": {
   "interpreter": {
    "hash": "aee8b7b246df8f9039afb4144a1f6fd8d2ca17a180786b69acc140d282b71a49"
   }
  }
 },
 "nbformat": 4,
 "nbformat_minor": 2,
 "cells": [
  {
   "cell_type": "code",
   "execution_count": 4,
   "metadata": {},
   "outputs": [],
   "source": [
    "import pandas as pd\n",
    "import numpy as np\n",
    "import seaborn as sb\n",
    "import matplotlib as plt\n",
    "from sklearn import linear_model"
   ]
  },
  {
   "cell_type": "code",
   "execution_count": 74,
   "metadata": {
    "tags": []
   },
   "outputs": [
    {
     "output_type": "stream",
     "name": "stdout",
     "text": [
      "112\n"
     ]
    }
   ],
   "source": [
    "data = pd.read_csv(\"Pokemon 2.csv\")\n",
    "data.head()\n",
    "print(data['Type 1'].value_counts()['Water'])\n",
    "# boo = True\n",
    "# for index, row in data.iterrows():\n",
    "#     if boo:\n",
    "#         for index in range(4,10):\n",
    "#             print(row[index])\n",
    "#     boo = False"
   ]
  },
  {
   "cell_type": "code",
   "execution_count": 102,
   "metadata": {
    "tags": []
   },
   "outputs": [
    {
     "output_type": "stream",
     "name": "stdout",
     "text": [
      "69.90384615384616\n"
     ]
    },
    {
     "output_type": "execute_result",
     "data": {
      "text/plain": [
       "     Type       Total         HP     Attack    Defense    Sp. Atk    Sp. Def  \\\n",
       "0   Grass  421.142857  67.271429  73.214286  70.800000  77.500000  70.428571   \n",
       "1    Fire  458.076923  69.903846  84.769231  67.769231  88.980769  72.211538   \n",
       "2   Water  430.455357  72.062500  74.151786  72.946429  74.812500  70.517857   \n",
       "3     Bug  378.927536  56.884058  70.971014  70.724638  53.869565  64.797101   \n",
       "4  Normal  401.683673  77.275510  73.469388  59.846939  55.816327  63.724490   \n",
       "\n",
       "       Speed  Total_Num  \n",
       "0  61.928571         70  \n",
       "1  74.442308         52  \n",
       "2  65.964286        112  \n",
       "3  61.681159         69  \n",
       "4  71.551020         98  "
      ],
      "text/html": "<div>\n<style scoped>\n    .dataframe tbody tr th:only-of-type {\n        vertical-align: middle;\n    }\n\n    .dataframe tbody tr th {\n        vertical-align: top;\n    }\n\n    .dataframe thead th {\n        text-align: right;\n    }\n</style>\n<table border=\"1\" class=\"dataframe\">\n  <thead>\n    <tr style=\"text-align: right;\">\n      <th></th>\n      <th>Type</th>\n      <th>Total</th>\n      <th>HP</th>\n      <th>Attack</th>\n      <th>Defense</th>\n      <th>Sp. Atk</th>\n      <th>Sp. Def</th>\n      <th>Speed</th>\n      <th>Total_Num</th>\n    </tr>\n  </thead>\n  <tbody>\n    <tr>\n      <th>0</th>\n      <td>Grass</td>\n      <td>421.142857</td>\n      <td>67.271429</td>\n      <td>73.214286</td>\n      <td>70.800000</td>\n      <td>77.500000</td>\n      <td>70.428571</td>\n      <td>61.928571</td>\n      <td>70</td>\n    </tr>\n    <tr>\n      <th>1</th>\n      <td>Fire</td>\n      <td>458.076923</td>\n      <td>69.903846</td>\n      <td>84.769231</td>\n      <td>67.769231</td>\n      <td>88.980769</td>\n      <td>72.211538</td>\n      <td>74.442308</td>\n      <td>52</td>\n    </tr>\n    <tr>\n      <th>2</th>\n      <td>Water</td>\n      <td>430.455357</td>\n      <td>72.062500</td>\n      <td>74.151786</td>\n      <td>72.946429</td>\n      <td>74.812500</td>\n      <td>70.517857</td>\n      <td>65.964286</td>\n      <td>112</td>\n    </tr>\n    <tr>\n      <th>3</th>\n      <td>Bug</td>\n      <td>378.927536</td>\n      <td>56.884058</td>\n      <td>70.971014</td>\n      <td>70.724638</td>\n      <td>53.869565</td>\n      <td>64.797101</td>\n      <td>61.681159</td>\n      <td>69</td>\n    </tr>\n    <tr>\n      <th>4</th>\n      <td>Normal</td>\n      <td>401.683673</td>\n      <td>77.275510</td>\n      <td>73.469388</td>\n      <td>59.846939</td>\n      <td>55.816327</td>\n      <td>63.724490</td>\n      <td>71.551020</td>\n      <td>98</td>\n    </tr>\n  </tbody>\n</table>\n</div>"
     },
     "metadata": {},
     "execution_count": 102
    }
   ],
   "source": [
    "#Train the Machine Learning model with the sample data\n",
    "#Create a 2D array of values detailing the average of each stat for each typing\n",
    "model = pd.DataFrame()\n",
    "model['Type'] = ['Grass', 'Fire', 'Water', 'Bug', 'Normal', 'Poison', 'Electric',\n",
    "       'Ground', 'Fairy', 'Fighting', 'Psychic', 'Rock', 'Ghost', 'Ice',\n",
    "       'Dragon', 'Dark', 'Steel', 'Flying']\n",
    "stats = ['Total', 'HP', 'Attack', 'Defense', 'Sp. Atk', 'Sp. Def', 'Speed', 'Total_Num']\n",
    "\n",
    "\n",
    "for column in stats:\n",
    "    model[column] = 0\n",
    "\n",
    "num_per_type = data['Type 1'].value_counts()\n",
    "\n",
    "m = model.loc[model['Type'] == 'Water'].index\n",
    "\n",
    "for i in num_per_type.index:\n",
    "    m = model.loc[model['Type'] == i]\n",
    "    model.loc[m.index, 'Total_Num'] = num_per_type[i]\n",
    "\n",
    "\n",
    "for index1, typing in model.iterrows():\n",
    "    for index2, pokemon in data.iterrows():\n",
    "        if pokemon['Type 1'] == typing['Type']:\n",
    "            for index in range(4,11):\n",
    "                model.loc[index1, data.columns[index]] += pokemon[index]\n",
    "    for col_index in range(1,8):\n",
    "        #print(index1, col_index)\n",
    "        #print(model.loc[index1, col_index])\n",
    "        model.loc[index1, model.columns[col_index]] /= model.loc[index1,'Total_Num']\n",
    "        \n",
    "\n",
    "   \n",
    "model.head()\n"
   ]
  },
  {
   "cell_type": "code",
   "execution_count": 8,
   "metadata": {},
   "outputs": [],
   "source": [
    "\n",
    "\n",
    "#use the predictive model to guess a pokemon's typing based on its stats alone\n"
   ]
  }
 ]
}