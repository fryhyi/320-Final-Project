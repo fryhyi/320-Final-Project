{
 "metadata": {
  "language_info": {
   "codemirror_mode": {
    "name": "ipython",
    "version": 3
   },
   "file_extension": ".py",
   "mimetype": "text/x-python",
   "name": "python",
   "nbconvert_exporter": "python",
   "pygments_lexer": "ipython3",
   "version": "3.9.5"
  },
  "orig_nbformat": 2,
  "kernelspec": {
   "name": "python395jvsc74a57bd0aee8b7b246df8f9039afb4144a1f6fd8d2ca17a180786b69acc140d282b71a49",
   "display_name": "Python 3.9.5 64-bit"
  },
  "metadata": {
   "interpreter": {
    "hash": "aee8b7b246df8f9039afb4144a1f6fd8d2ca17a180786b69acc140d282b71a49"
   }
  }
 },
 "nbformat": 4,
 "nbformat_minor": 2,
 "cells": [
  {
   "cell_type": "code",
   "execution_count": 3,
   "metadata": {},
   "outputs": [],
   "source": [
    "import pandas as pd\n",
    "import numpy as np\n",
    "import seaborn as sb\n",
    "import matplotlib as plt\n",
    "from sklearn import linear_model"
   ]
  },
  {
   "cell_type": "code",
   "execution_count": 11,
   "metadata": {
    "tags": []
   },
   "outputs": [
    {
     "output_type": "execute_result",
     "data": {
      "text/plain": [
       "   #                   Name Type 1  Type 2  Total  HP  Attack  Defense  \\\n",
       "0  1              Bulbasaur  Grass  Poison    318  45      49       49   \n",
       "1  2                Ivysaur  Grass  Poison    405  60      62       63   \n",
       "2  3               Venusaur  Grass  Poison    525  80      82       83   \n",
       "3  3  VenusaurMega Venusaur  Grass  Poison    625  80     100      123   \n",
       "4  4             Charmander   Fire     NaN    309  39      52       43   \n",
       "\n",
       "   Sp. Atk  Sp. Def  Speed  Generation  Legendary  \n",
       "0       65       65     45           1      False  \n",
       "1       80       80     60           1      False  \n",
       "2      100      100     80           1      False  \n",
       "3      122      120     80           1      False  \n",
       "4       60       50     65           1      False  "
      ],
      "text/html": "<div>\n<style scoped>\n    .dataframe tbody tr th:only-of-type {\n        vertical-align: middle;\n    }\n\n    .dataframe tbody tr th {\n        vertical-align: top;\n    }\n\n    .dataframe thead th {\n        text-align: right;\n    }\n</style>\n<table border=\"1\" class=\"dataframe\">\n  <thead>\n    <tr style=\"text-align: right;\">\n      <th></th>\n      <th>#</th>\n      <th>Name</th>\n      <th>Type 1</th>\n      <th>Type 2</th>\n      <th>Total</th>\n      <th>HP</th>\n      <th>Attack</th>\n      <th>Defense</th>\n      <th>Sp. Atk</th>\n      <th>Sp. Def</th>\n      <th>Speed</th>\n      <th>Generation</th>\n      <th>Legendary</th>\n    </tr>\n  </thead>\n  <tbody>\n    <tr>\n      <th>0</th>\n      <td>1</td>\n      <td>Bulbasaur</td>\n      <td>Grass</td>\n      <td>Poison</td>\n      <td>318</td>\n      <td>45</td>\n      <td>49</td>\n      <td>49</td>\n      <td>65</td>\n      <td>65</td>\n      <td>45</td>\n      <td>1</td>\n      <td>False</td>\n    </tr>\n    <tr>\n      <th>1</th>\n      <td>2</td>\n      <td>Ivysaur</td>\n      <td>Grass</td>\n      <td>Poison</td>\n      <td>405</td>\n      <td>60</td>\n      <td>62</td>\n      <td>63</td>\n      <td>80</td>\n      <td>80</td>\n      <td>60</td>\n      <td>1</td>\n      <td>False</td>\n    </tr>\n    <tr>\n      <th>2</th>\n      <td>3</td>\n      <td>Venusaur</td>\n      <td>Grass</td>\n      <td>Poison</td>\n      <td>525</td>\n      <td>80</td>\n      <td>82</td>\n      <td>83</td>\n      <td>100</td>\n      <td>100</td>\n      <td>80</td>\n      <td>1</td>\n      <td>False</td>\n    </tr>\n    <tr>\n      <th>3</th>\n      <td>3</td>\n      <td>VenusaurMega Venusaur</td>\n      <td>Grass</td>\n      <td>Poison</td>\n      <td>625</td>\n      <td>80</td>\n      <td>100</td>\n      <td>123</td>\n      <td>122</td>\n      <td>120</td>\n      <td>80</td>\n      <td>1</td>\n      <td>False</td>\n    </tr>\n    <tr>\n      <th>4</th>\n      <td>4</td>\n      <td>Charmander</td>\n      <td>Fire</td>\n      <td>NaN</td>\n      <td>309</td>\n      <td>39</td>\n      <td>52</td>\n      <td>43</td>\n      <td>60</td>\n      <td>50</td>\n      <td>65</td>\n      <td>1</td>\n      <td>False</td>\n    </tr>\n  </tbody>\n</table>\n</div>"
     },
     "metadata": {},
     "execution_count": 11
    }
   ],
   "source": [
    "data = pd.read_csv(\"Pokemon 2.csv\")\n",
    "data.head()\n",
    "# boo = True\n",
    "# for index, row in data.iterrows():\n",
    "#     if boo:\n",
    "#         for index in range(4,10):\n",
    "#             print(row[index])\n",
    "#     boo = False"
   ]
  },
  {
   "cell_type": "code",
   "execution_count": 123,
   "metadata": {
    "tags": []
   },
   "outputs": [
    {
     "output_type": "execute_result",
     "data": {
      "text/plain": [
       "     Type       Total        HP    Attack   Defense   Sp. Atk   Sp. Def  \\\n",
       "0   Grass  421.142857  0.958412  1.043080  1.008684  1.104138  1.003392   \n",
       "1    Fire  458.076923  0.915617  1.110327  0.887657  1.165491  0.945844   \n",
       "2   Water  430.455357  1.004460  1.033582  1.016780  1.042791  0.982929   \n",
       "3     Bug  378.927536  0.900711  1.123767  1.119865  0.852979  1.026008   \n",
       "4  Normal  401.683673  1.154274  1.097422  0.893941  0.833736  0.951861   \n",
       "\n",
       "      Speed  Total_Num_Primary  \n",
       "0  0.882293                 70  \n",
       "1  0.975063                 52  \n",
       "2  0.919458                112  \n",
       "3  0.976669                 69  \n",
       "4  1.068767                 98  "
      ],
      "text/html": "<div>\n<style scoped>\n    .dataframe tbody tr th:only-of-type {\n        vertical-align: middle;\n    }\n\n    .dataframe tbody tr th {\n        vertical-align: top;\n    }\n\n    .dataframe thead th {\n        text-align: right;\n    }\n</style>\n<table border=\"1\" class=\"dataframe\">\n  <thead>\n    <tr style=\"text-align: right;\">\n      <th></th>\n      <th>Type</th>\n      <th>Total</th>\n      <th>HP</th>\n      <th>Attack</th>\n      <th>Defense</th>\n      <th>Sp. Atk</th>\n      <th>Sp. Def</th>\n      <th>Speed</th>\n      <th>Total_Num_Primary</th>\n    </tr>\n  </thead>\n  <tbody>\n    <tr>\n      <th>0</th>\n      <td>Grass</td>\n      <td>421.142857</td>\n      <td>0.958412</td>\n      <td>1.043080</td>\n      <td>1.008684</td>\n      <td>1.104138</td>\n      <td>1.003392</td>\n      <td>0.882293</td>\n      <td>70</td>\n    </tr>\n    <tr>\n      <th>1</th>\n      <td>Fire</td>\n      <td>458.076923</td>\n      <td>0.915617</td>\n      <td>1.110327</td>\n      <td>0.887657</td>\n      <td>1.165491</td>\n      <td>0.945844</td>\n      <td>0.975063</td>\n      <td>52</td>\n    </tr>\n    <tr>\n      <th>2</th>\n      <td>Water</td>\n      <td>430.455357</td>\n      <td>1.004460</td>\n      <td>1.033582</td>\n      <td>1.016780</td>\n      <td>1.042791</td>\n      <td>0.982929</td>\n      <td>0.919458</td>\n      <td>112</td>\n    </tr>\n    <tr>\n      <th>3</th>\n      <td>Bug</td>\n      <td>378.927536</td>\n      <td>0.900711</td>\n      <td>1.123767</td>\n      <td>1.119865</td>\n      <td>0.852979</td>\n      <td>1.026008</td>\n      <td>0.976669</td>\n      <td>69</td>\n    </tr>\n    <tr>\n      <th>4</th>\n      <td>Normal</td>\n      <td>401.683673</td>\n      <td>1.154274</td>\n      <td>1.097422</td>\n      <td>0.893941</td>\n      <td>0.833736</td>\n      <td>0.951861</td>\n      <td>1.068767</td>\n      <td>98</td>\n    </tr>\n  </tbody>\n</table>\n</div>"
     },
     "metadata": {},
     "execution_count": 123
    }
   ],
   "source": [
    "#Train the Machine Learning model with the sample data\n",
    "#Create a 2D array of values detailing the average of each stat for each typing\n",
    "model = pd.DataFrame()\n",
    "model['Type'] = ['Grass', 'Fire', 'Water', 'Bug', 'Normal', 'Poison', 'Electric',\n",
    "       'Ground', 'Fairy', 'Fighting', 'Psychic', 'Rock', 'Ghost', 'Ice',\n",
    "       'Dragon', 'Dark', 'Steel', 'Flying']\n",
    "stats = ['Total', 'HP', 'Attack', 'Defense', 'Sp. Atk', 'Sp. Def', 'Speed', 'Total_Num_Primary', 'Total_Num_Secondary']\n",
    "\n",
    "\n",
    "for column in stats:\n",
    "    model[column] = 0\n",
    "\n",
    "num_per_type = data['Type 1'].value_counts()\n",
    "num_per_type_2 = data['Type 2'].value_counts()\n",
    "\n",
    "for i in num_per_type.index:\n",
    "    m = model.loc[model['Type'] == i]\n",
    "    model.loc[m.index, 'Total_Num_Primary'] = num_per_type[i]\n",
    "    model.loc[m.index, 'Total_Num_Secondary'] = num_per_type[i]\n",
    "\n",
    "\n",
    "for index1, typing in model.iterrows():\n",
    "    for index2, pokemon in data.iterrows():\n",
    "        if pokemon['Type 1'] == typing['Type']:\n",
    "            for index in range(4,11):\n",
    "                model.loc[index1, data.columns[index]] += pokemon[index]\n",
    "    for col_index in range(1,8):\n",
    "        model.loc[index1, model.columns[col_index]] /= model.loc[index1,'Total_Num_Primary']\n",
    "#normalize values around 1 to account for variability between weak/strong pokemon\n",
    "    for col_index in range(2,8):\n",
    "        model.loc[index1, model.columns[col_index]] /= (model.loc[index1,'Total']/6)\n",
    "\n",
    "\n",
    "\n",
    "model.head()"
   ]
  },
  {
   "cell_type": "code",
   "execution_count": 111,
   "metadata": {},
   "outputs": [
    {
     "output_type": "stream",
     "name": "stdout",
     "text": [
      "Attack\n"
     ]
    }
   ],
   "source": [
    "pok_ind = 7\n",
    "pok = data.iloc[pok_ind, 4:11]\n",
    "arr = np.empty(18)\n",
    "resid = 0\n",
    "for col in range (1,7):\n",
    "    pok[col] = (6*pok[col])/pok[0]\n",
    "arr = np.empty(18)\n",
    "resid = 0\n",
    "for index, Type in model.iterrows():\n",
    "    for col in range(1,7):\n",
    "        resid += abs(pok[col]-model.iloc[index, col+1])\n",
    "    if pd.to_numeric(po).idxmax() == pd.to_numeric(Type[2:8]).idxmax():\n",
    "        resid -= .05\n",
    "    arr[index] = resid\n",
    "    resid = 0\n",
    "result_ind = np.where(arr == np.amin(arr))\n",
    "# print(model.loc[result_ind[0][0], 'Type'])\n",
    "# print(data.iloc[pok_ind, 2])\n",
    "po = pok[1:7]\n",
    "print(pd.to_numeric(po).idxmax())"
   ]
  },
  {
   "cell_type": "code",
   "execution_count": 118,
   "metadata": {},
   "outputs": [],
   "source": [
    "#use the predictive model to guess a pokemon's typing based on its stats alone\n",
    "\n",
    "def predict(pok):\n",
    "    #normalize the stats around 1\n",
    "    for col in range (1,7):\n",
    "        pok[col] = (6*pok[col])/pok[0]\n",
    "    arr = np.empty(18)\n",
    "    resid = 0\n",
    "    for index, Type in model.iterrows():\n",
    "        for col in range(1,7):\n",
    "            resid += abs(pok[col]-model.iloc[index, col+1])\n",
    "        arr[index] = resid\n",
    "        resid = 0\n",
    "    result_ind = np.where(arr == np.amin(arr))\n",
    "    return(model.loc[result_ind[0][0], 'Type'])\n"
   ]
  },
  {
   "cell_type": "code",
   "execution_count": 119,
   "metadata": {},
   "outputs": [],
   "source": [
    "count = 0\n",
    "for index, pok in data.iterrows():\n",
    "    guess = predict(pok[4:11])\n",
    "    #or guess == pok[3]\n",
    "    if guess == pok[2] :\n",
    "        count+=1\n",
    "\n",
    "hit_percent = count/len(data.index)"
   ]
  },
  {
   "cell_type": "code",
   "execution_count": 120,
   "metadata": {},
   "outputs": [
    {
     "output_type": "stream",
     "name": "stdout",
     "text": [
      "0.14375\n"
     ]
    }
   ],
   "source": [
    "print(hit_percent)"
   ]
  },
  {
   "cell_type": "code",
   "execution_count": null,
   "metadata": {},
   "outputs": [],
   "source": [
    ".215\n",
    ".14625"
   ]
  }
 ]
}